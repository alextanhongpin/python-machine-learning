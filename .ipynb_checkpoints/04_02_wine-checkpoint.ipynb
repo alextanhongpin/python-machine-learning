{
 "cells": [
  {
   "cell_type": "code",
   "execution_count": 136,
   "id": "suffering-embassy",
   "metadata": {},
   "outputs": [],
   "source": [
    "%matplotlib inline\n",
    "\n",
    "import matplotlib.pyplot as plt\n",
    "import numpy as np\n",
    "from sklearn import datasets\n",
    "from sklearn.ensemble import RandomForestClassifier\n",
    "from sklearn.feature_selection import SelectFromModel\n",
    "from sklearn.linear_model import LogisticRegression\n",
    "from sklearn.model_selection import train_test_split\n",
    "from sklearn.neighbors import KNeighborsClassifier\n",
    "from sklearn.preprocessing import MinMaxScaler, StandardScaler"
   ]
  },
  {
   "cell_type": "code",
   "execution_count": 101,
   "id": "developed-sender",
   "metadata": {},
   "outputs": [
    {
     "data": {
      "text/plain": [
       "['alcohol',\n",
       " 'malic_acid',\n",
       " 'ash',\n",
       " 'alcalinity_of_ash',\n",
       " 'magnesium',\n",
       " 'total_phenols',\n",
       " 'flavanoids',\n",
       " 'nonflavanoid_phenols',\n",
       " 'proanthocyanins',\n",
       " 'color_intensity',\n",
       " 'hue',\n",
       " 'od280/od315_of_diluted_wines',\n",
       " 'proline']"
      ]
     },
     "execution_count": 101,
     "metadata": {},
     "output_type": "execute_result"
    }
   ],
   "source": [
    "wine = datasets.load_wine()\n",
    "wine.feature_names"
   ]
  },
  {
   "cell_type": "code",
   "execution_count": 102,
   "id": "flexible-question",
   "metadata": {},
   "outputs": [
    {
     "data": {
      "text/plain": [
       "array([0, 1, 2])"
      ]
     },
     "execution_count": 102,
     "metadata": {},
     "output_type": "execute_result"
    }
   ],
   "source": [
    "np.unique(wine.target)"
   ]
  },
  {
   "cell_type": "code",
   "execution_count": 103,
   "id": "ultimate-affect",
   "metadata": {},
   "outputs": [
    {
     "data": {
      "text/plain": [
       "(['alcohol',\n",
       "  'malic_acid',\n",
       "  'ash',\n",
       "  'alcalinity_of_ash',\n",
       "  'magnesium',\n",
       "  'total_phenols',\n",
       "  'flavanoids',\n",
       "  'nonflavanoid_phenols',\n",
       "  'proanthocyanins',\n",
       "  'color_intensity',\n",
       "  'hue',\n",
       "  'od280/od315_of_diluted_wines',\n",
       "  'proline'],\n",
       " array(['class_0', 'class_1', 'class_2'], dtype='<U7'))"
      ]
     },
     "execution_count": 103,
     "metadata": {},
     "output_type": "execute_result"
    }
   ],
   "source": [
    "wine.feature_names, wine.target_names"
   ]
  },
  {
   "cell_type": "code",
   "execution_count": 104,
   "id": "undefined-encoding",
   "metadata": {},
   "outputs": [
    {
     "data": {
      "text/plain": [
       "((178, 13), (178,))"
      ]
     },
     "execution_count": 104,
     "metadata": {},
     "output_type": "execute_result"
    }
   ],
   "source": [
    "X, y = wine.data, wine.target\n",
    "# X = X.reshape(-1, 1)\n",
    "X.shape, y.shape"
   ]
  },
  {
   "cell_type": "code",
   "execution_count": 105,
   "id": "declared-briefs",
   "metadata": {},
   "outputs": [],
   "source": [
    "X_train, X_test, y_train, y_test = train_test_split(\n",
    "    X, y, test_size=0.3, random_state=0, stratify=y\n",
    ")"
   ]
  },
  {
   "cell_type": "code",
   "execution_count": 106,
   "id": "institutional-tribe",
   "metadata": {},
   "outputs": [],
   "source": [
    "mms = MinMaxScaler()\n",
    "X_train_norm = mms.fit_transform(X_train)\n",
    "X_test_norm = mms.fit_transform(X_test)"
   ]
  },
  {
   "cell_type": "code",
   "execution_count": 107,
   "id": "obvious-aggregate",
   "metadata": {},
   "outputs": [
    {
     "name": "stdout",
     "output_type": "stream",
     "text": [
      "standardized: [-1.46385011 -0.87831007 -0.29277002  0.29277002  0.87831007  1.46385011]\n",
      "normalized: [0.  0.2 0.4 0.6 0.8 1. ]\n"
     ]
    }
   ],
   "source": [
    "ex = np.array([0, 1, 2, 3, 4, 5])\n",
    "print(\"standardized:\", (ex - ex.mean()) / ex.std())\n",
    "print(\"normalized:\", (ex - ex.min()) / (ex.max() - ex.min()))"
   ]
  },
  {
   "cell_type": "code",
   "execution_count": 108,
   "id": "sapphire-cleaner",
   "metadata": {},
   "outputs": [],
   "source": [
    "sc = StandardScaler()\n",
    "X_train_std = sc.fit_transform(X_train)\n",
    "X_test_std = sc.fit_transform(X_test)"
   ]
  },
  {
   "cell_type": "code",
   "execution_count": 109,
   "id": "after-values",
   "metadata": {},
   "outputs": [
    {
     "name": "stdout",
     "output_type": "stream",
     "text": [
      "Training accuracy: 1.0\n",
      "Test accuracy: 1.0\n"
     ]
    }
   ],
   "source": [
    "lr = LogisticRegression(penalty=\"l1\", C=1.0, solver=\"liblinear\", multi_class=\"ovr\")\n",
    "lr.fit(X_train_std, y_train)\n",
    "print(\"Training accuracy:\", lr.score(X_train_std, y_train))\n",
    "print(\"Test accuracy:\", lr.score(X_test_std, y_test))"
   ]
  },
  {
   "cell_type": "code",
   "execution_count": 110,
   "id": "changing-wesley",
   "metadata": {},
   "outputs": [
    {
     "data": {
      "text/plain": [
       "array([-1.26351416, -1.21589109, -2.37066741])"
      ]
     },
     "execution_count": 110,
     "metadata": {},
     "output_type": "execute_result"
    }
   ],
   "source": [
    "lr.intercept_"
   ]
  },
  {
   "cell_type": "code",
   "execution_count": 111,
   "id": "third-tension",
   "metadata": {},
   "outputs": [
    {
     "data": {
      "text/plain": [
       "array([[ 1.24570245,  0.18011595,  0.74552976, -1.16306787,  0.        ,\n",
       "         0.        ,  1.16001974,  0.        ,  0.        ,  0.        ,\n",
       "         0.        ,  0.55655488,  2.50901438],\n",
       "       [-1.53655865, -0.3876473 , -0.99529759,  0.36507778, -0.0596322 ,\n",
       "         0.        ,  0.66855865,  0.        ,  0.        , -1.93427178,\n",
       "         1.23328874,  0.        , -2.23232679],\n",
       "       [ 0.13548641,  0.16859   ,  0.35719213,  0.        ,  0.        ,\n",
       "         0.        , -2.43775155,  0.        ,  0.        ,  1.56360771,\n",
       "        -0.81840609, -0.49340577,  0.        ]])"
      ]
     },
     "execution_count": 111,
     "metadata": {},
     "output_type": "execute_result"
    }
   ],
   "source": [
    "lr.coef_"
   ]
  },
  {
   "cell_type": "code",
   "execution_count": 82,
   "id": "colored-masters",
   "metadata": {},
   "outputs": [
    {
     "data": {
      "image/png": "[encoded data removed]",
      "text/plain": [
       "<Figure size 432x288 with 1 Axes>"
      ]
     },
     "metadata": {
      "needs_background": "light"
     },
     "output_type": "display_data"
    }
   ],
   "source": [
    "fig = plt.figure()\n",
    "ax = plt.subplot(111)\n",
    "\n",
    "colors = \"blue green red cyan magenta yellow black pink lightgreen lightblue gray indigo orange\".split(\n",
    "    \" \"\n",
    ")\n",
    "weights, params = [], []\n",
    "for c in np.arange(-4.0, 6.0):\n",
    "    lr = LogisticRegression(\n",
    "        penalty=\"l1\", C=10.0 ** c, solver=\"liblinear\", multi_class=\"ovr\", random_state=0\n",
    "    )\n",
    "    lr.fit(X_train_std, y_train)\n",
    "    weights.append(lr.coef_[1])\n",
    "    params.append(10 ** c)\n",
    "\n",
    "weights = np.array(weights)\n",
    "\n",
    "for column, color in zip(range(weights.shape[1]), colors):\n",
    "    plt.plot(params, weights[:, column], label=wine.feature_names[column], color=color)\n",
    "\n",
    "plt.axhline(0, color=\"black\", linestyle=\"--\", linewidth=3)\n",
    "plt.xlim([10 ** -5, 10 ** 5])\n",
    "plt.ylabel(\"weight coefficient\")\n",
    "plt.xlabel(\"C\")\n",
    "plt.xscale(\"log\")\n",
    "plt.legend(loc=\"upper left\")\n",
    "ax.legend(loc=\"upper center\", bbox_to_anchor=(1.38, 1.03), ncol=1, fancybox=True)\n",
    "plt.show()"
   ]
  },
  {
   "cell_type": "code",
   "execution_count": 86,
   "id": "residential-stanley",
   "metadata": {},
   "outputs": [],
   "source": [
    "%run sequential_backward_selection.py"
   ]
  },
  {
   "cell_type": "code",
   "execution_count": 88,
   "id": "convertible-anatomy",
   "metadata": {},
   "outputs": [
    {
     "data": {
      "image/png": "[encoded data removed]",
      "text/plain": [
       "<Figure size 432x288 with 1 Axes>"
      ]
     },
     "metadata": {
      "needs_background": "light"
     },
     "output_type": "display_data"
    }
   ],
   "source": [
    "knn = KNeighborsClassifier(n_neighbors=5)\n",
    "sbs = SBS(knn, k_features=1)\n",
    "sbs.fit(X_train_std, y_train)\n",
    "k_feat = [len(k) for k in sbs.subsets_]\n",
    "plt.plot(k_feat, sbs.scores_, marker=\"o\")\n",
    "plt.ylim([0.7, 1.02])\n",
    "plt.ylabel(\"Accuracy\")\n",
    "plt.xlabel(\"Number of features\")\n",
    "plt.grid()\n",
    "plt.show()"
   ]
  },
  {
   "cell_type": "code",
   "execution_count": 98,
   "id": "closing-jimmy",
   "metadata": {},
   "outputs": [
    {
     "name": "stdout",
     "output_type": "stream",
     "text": [
      "['alcohol' 'malic_acid' 'od280/od315_of_diluted_wines']\n"
     ]
    }
   ],
   "source": [
    "k3 = list(sbs.subsets_[10])\n",
    "print(np.array(wine.feature_names)[k3])"
   ]
  },
  {
   "cell_type": "code",
   "execution_count": 96,
   "id": "similar-mailing",
   "metadata": {},
   "outputs": [
    {
     "name": "stdout",
     "output_type": "stream",
     "text": [
      "Training accuracy: 0.967741935483871\n",
      "Test accuracy: 0.9814814814814815\n"
     ]
    }
   ],
   "source": [
    "knn.fit(X_train_std, y_train)\n",
    "print(\"Training accuracy:\", knn.score(X_train_std, y_train))\n",
    "print(\"Test accuracy:\", knn.score(X_test_std, y_test))"
   ]
  },
  {
   "cell_type": "code",
   "execution_count": 114,
   "id": "official-greensboro",
   "metadata": {},
   "outputs": [
    {
     "name": "stdout",
     "output_type": "stream",
     "text": [
      "Training accuracy: 0.9516129032258065\n",
      "Test accuracy: 0.9259259259259259\n"
     ]
    }
   ],
   "source": [
    "knn.fit(X_train_std[:, k3], y_train)\n",
    "print(\"Training accuracy:\", knn.score(X_train_std[:, k3], y_train))\n",
    "print(\"Test accuracy:\", knn.score(X_test_std[:, k3], y_test))"
   ]
  },
  {
   "cell_type": "code",
   "execution_count": 116,
   "id": "unexpected-bookmark",
   "metadata": {},
   "outputs": [
    {
     "data": {
      "text/plain": [
       "array([0.11852942, 0.02564836, 0.01327854, 0.02236594, 0.03135708,\n",
       "       0.05087243, 0.17475098, 0.01335393, 0.02556988, 0.1439199 ,\n",
       "       0.058739  , 0.13616194, 0.1854526 ])"
      ]
     },
     "execution_count": 116,
     "metadata": {},
     "output_type": "execute_result"
    }
   ],
   "source": [
    "feat_labels = wine.feature_names\n",
    "forest = RandomForestClassifier(n_estimators=500, random_state=1)\n",
    "forest.fit(X_train_std, y_train)\n",
    "importances = forest.feature_importances_\n",
    "importances"
   ]
  },
  {
   "cell_type": "code",
   "execution_count": 117,
   "id": "discrete-caribbean",
   "metadata": {},
   "outputs": [
    {
     "data": {
      "text/plain": [
       "array([12,  6,  9, 11,  0, 10,  5,  4,  1,  8,  3,  7,  2])"
      ]
     },
     "execution_count": 117,
     "metadata": {},
     "output_type": "execute_result"
    }
   ],
   "source": [
    "indices = np.argsort(importances)[::-1]\n",
    "indices"
   ]
  },
  {
   "cell_type": "code",
   "execution_count": 132,
   "id": "following-revelation",
   "metadata": {},
   "outputs": [
    {
     "name": "stdout",
     "output_type": "stream",
     "text": [
      " 1) proline                        0.185453\n",
      " 2) flavanoids                     0.174751\n",
      " 3) color_intensity                0.143920\n",
      " 4) od280/od315_of_diluted_wines   0.136162\n",
      " 5) alcohol                        0.118529\n",
      " 6) hue                            0.058739\n",
      " 7) total_phenols                  0.050872\n",
      " 8) magnesium                      0.031357\n",
      " 9) malic_acid                     0.025648\n",
      "10) proanthocyanins                0.025570\n",
      "11) alcalinity_of_ash              0.022366\n",
      "12) nonflavanoid_phenols           0.013354\n",
      "13) ash                            0.013279\n"
     ]
    }
   ],
   "source": [
    "for f in range(X_train.shape[1]):\n",
    "    print(f\"{f+1:2d}) {feat_labels[indices[f]]:<30} {importances[indices[f]]:f}\")"
   ]
  },
  {
   "cell_type": "code",
   "execution_count": 135,
   "id": "cheap-overhead",
   "metadata": {},
   "outputs": [
    {
     "data": {
      "image/png": "[encoded data removed]",
      "text/plain": [
       "<Figure size 432x288 with 1 Axes>"
      ]
     },
     "metadata": {
      "needs_background": "light"
     },
     "output_type": "display_data"
    }
   ],
   "source": [
    "plt.title(\"Feature importances\")\n",
    "plt.bar(range(X_train.shape[1]), importances[indices], align=\"center\")\n",
    "plt.xticks(range(X_train.shape[1]), feat_labels, rotation=90)\n",
    "plt.xlim([-1, X_train.shape[1]])\n",
    "plt.tight_layout()\n",
    "plt.show()"
   ]
  },
  {
   "cell_type": "code",
   "execution_count": 138,
   "id": "complete-darkness",
   "metadata": {},
   "outputs": [
    {
     "name": "stdout",
     "output_type": "stream",
     "text": [
      "Number of samples that meet this criterion: 124\n",
      " 1) proline                        0.18545260453273973\n",
      " 2) flavanoids                     0.17475097557788732\n",
      " 3) color_intensity                0.14391990337231414\n",
      " 4) od280/od315_of_diluted_wines   0.1361619442214559\n",
      " 5) alcohol                        0.11852941731789315\n"
     ]
    }
   ],
   "source": [
    "sfm = SelectFromModel(forest, threshold=0.1, prefit=True)\n",
    "X_selected = sfm.transform(X_train)\n",
    "print('Number of samples that meet this criterion:', X_selected.shape[0])\n",
    "\n",
    "for f in range(X_selected.shape[1]):\n",
    "    print(f'{f+1:2d}) {feat_labels[indices[f]]:<30} {importances[indices[f]]}')"
   ]
  },
  {
   "cell_type": "code",
   "execution_count": null,
   "id": "bacterial-round",
   "metadata": {},
   "outputs": [],
   "source": []
  }
 ],
 "metadata": {
  "kernelspec": {
   "display_name": "Python 3",
   "language": "python",
   "name": "python3"
  },
  "language_info": {
   "codemirror_mode": {
    "name": "ipython",
    "version": 3
   },
   "file_extension": ".py",
   "mimetype": "text/x-python",
   "name": "python",
   "nbconvert_exporter": "python",
   "pygments_lexer": "ipython3",
   "version": "3.9.9"
  }
 },
 "nbformat": 4,
 "nbformat_minor": 5
}
