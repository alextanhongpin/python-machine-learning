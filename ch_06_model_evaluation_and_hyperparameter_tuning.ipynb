{
 "cells": [
  {
   "cell_type": "code",
   "execution_count": 1,
   "id": "rational-estimate",
   "metadata": {},
   "outputs": [],
   "source": [
    "%matplotlib inline\n",
    "\n",
    "\n",
    "import matplotlib.pyplot as plt\n",
    "import numpy as np\n",
    "import pandas as pd\n",
    "from sklearn.datasets import load_breast_cancer\n",
    "from sklearn.decomposition import PCA\n",
    "from sklearn.linear_model import LogisticRegression\n",
    "from sklearn.model_selection import (\n",
    "    StratifiedKFold,\n",
    "    cross_val_score,\n",
    "    learning_curve,\n",
    "    train_test_split,\n",
    ")\n",
    "from sklearn.pipeline import make_pipeline\n",
    "from sklearn.preprocessing import StandardScaler\n",
    "\n",
    "## NOTE\n",
    "# The example in the book has the y label inverted."
   ]
  },
  {
   "cell_type": "code",
   "execution_count": 2,
   "id": "static-argentina",
   "metadata": {},
   "outputs": [],
   "source": [
    "X, y = load_breast_cancer(return_X_y=True)"
   ]
  },
  {
   "cell_type": "code",
   "execution_count": 3,
   "id": "compact-vietnamese",
   "metadata": {},
   "outputs": [],
   "source": [
    "X_train, X_test, y_train, y_test = train_test_split(\n",
    "    X, y, test_size=0.2, stratify=y, random_state=1\n",
    ")"
   ]
  },
  {
   "cell_type": "code",
   "execution_count": 4,
   "id": "graphic-dakota",
   "metadata": {},
   "outputs": [
    {
     "name": "stdout",
     "output_type": "stream",
     "text": [
      "Test Accuracy: 0.956\n"
     ]
    }
   ],
   "source": [
    "pipe_lr = make_pipeline(\n",
    "    StandardScaler(), PCA(n_components=2), LogisticRegression(random_state=1)\n",
    ")\n",
    "pipe_lr.fit(X_train, y_train)\n",
    "y_pred = pipe_lr.predict(X_test)\n",
    "print(f\"Test Accuracy: {pipe_lr.score(X_test, y_test):.3f}\")"
   ]
  },
  {
   "cell_type": "code",
   "execution_count": 5,
   "id": "coated-nurse",
   "metadata": {},
   "outputs": [
    {
     "name": "stdout",
     "output_type": "stream",
     "text": [
      "Fold:  1, Class dist.: [153 256], Acc: 1.000\n",
      "Fold:  2, Class dist.: [153 256], Acc: 0.935\n",
      "Fold:  3, Class dist.: [153 256], Acc: 0.913\n",
      "Fold:  4, Class dist.: [153 256], Acc: 0.935\n",
      "Fold:  5, Class dist.: [153 256], Acc: 0.978\n",
      "Fold:  6, Class dist.: [153 257], Acc: 0.933\n",
      "Fold:  7, Class dist.: [153 257], Acc: 0.933\n",
      "Fold:  8, Class dist.: [153 257], Acc: 0.978\n",
      "Fold:  9, Class dist.: [153 257], Acc: 0.956\n",
      "Fold: 10, Class dist.: [153 257], Acc: 0.911\n"
     ]
    }
   ],
   "source": [
    "kfold = StratifiedKFold(n_splits=10, random_state=1, shuffle=True).split(\n",
    "    X_train, y_train\n",
    ")\n",
    "\n",
    "scores = []\n",
    "for k, (train, test) in enumerate(kfold):\n",
    "    pipe_lr.fit(X_train[train], y_train[train])\n",
    "    score = pipe_lr.score(X_train[test], y_train[test])\n",
    "    scores.append(score)\n",
    "    print(\n",
    "        f\"Fold: {k+1:2d}, Class dist.: {np.bincount(y_train[train])}, Acc: {score:.3f}\"\n",
    "    )"
   ]
  },
  {
   "cell_type": "code",
   "execution_count": 6,
   "id": "mineral-chaos",
   "metadata": {},
   "outputs": [
    {
     "name": "stdout",
     "output_type": "stream",
     "text": [
      "CV accuracy: 0.947 +/- 0.028\n"
     ]
    }
   ],
   "source": [
    "print(f\"CV accuracy: {np.mean(scores):.3f} +/- {np.std(scores):.3f}\")"
   ]
  },
  {
   "cell_type": "code",
   "execution_count": 7,
   "id": "bridal-identification",
   "metadata": {},
   "outputs": [
    {
     "name": "stdout",
     "output_type": "stream",
     "text": [
      "CV accuracy scores: [0.97826087 0.93478261 0.95652174 0.93478261 0.91304348 0.95555556\n",
      " 0.93333333 0.95555556 0.93333333 0.97777778]\n"
     ]
    }
   ],
   "source": [
    "scores = cross_val_score(estimator=pipe_lr, X=X_train, y=y_train, cv=10, n_jobs=1)\n",
    "print(f\"CV accuracy scores: {scores}\")"
   ]
  },
  {
   "cell_type": "code",
   "execution_count": 8,
   "id": "graphic-separation",
   "metadata": {},
   "outputs": [
    {
     "name": "stdout",
     "output_type": "stream",
     "text": [
      "CV accuracy: 0.947 +/- 0.020\n"
     ]
    }
   ],
   "source": [
    "print(f\"CV accuracy: {np.mean(scores):.3f} +/- {np.std(scores):.3f}\")"
   ]
  },
  {
   "cell_type": "code",
   "execution_count": 9,
   "id": "separated-presentation",
   "metadata": {},
   "outputs": [],
   "source": [
    "pipe_lr = make_pipeline(\n",
    "    StandardScaler(),\n",
    "    LogisticRegression(penalty=\"l2\", random_state=1, solver=\"lbfgs\", max_iter=10000),\n",
    ")"
   ]
  },
  {
   "cell_type": "code",
   "execution_count": 10,
   "id": "nutritional-sheriff",
   "metadata": {},
   "outputs": [],
   "source": [
    "train_sizes, train_scores, test_scores = learning_curve(\n",
    "    estimator=pipe_lr,\n",
    "    X=X_train,\n",
    "    y=y_train,\n",
    "    train_sizes=np.linspace(0.1, 1.0, 10),\n",
    "    cv=10,\n",
    "    n_jobs=1,\n",
    ")\n",
    "train_mean = np.mean(train_scores, axis=1)\n",
    "train_std = np.std(train_scores, axis=1)\n",
    "test_mean = np.mean(test_scores, axis=1)\n",
    "test_std = np.std(test_scores, axis=1)"
   ]
  },
  {
   "cell_type": "code",
   "execution_count": 11,
   "id": "thousand-washer",
   "metadata": {},
   "outputs": [
    {
     "data": {
      "image/png": "[encoded data removed]",
      "text/plain": [
       "<Figure size 432x288 with 1 Axes>"
      ]
     },
     "metadata": {
      "needs_background": "light"
     },
     "output_type": "display_data"
    }
   ],
   "source": [
    "plt.plot(\n",
    "    train_sizes,\n",
    "    train_mean,\n",
    "    color=\"blue\",\n",
    "    marker=\"o\",\n",
    "    markersize=5,\n",
    "    label=\"training accuracy\",\n",
    ")\n",
    "plt.fill_between(\n",
    "    train_sizes,\n",
    "    train_mean + train_std,\n",
    "    train_mean - train_std,\n",
    "    alpha=0.15,\n",
    "    color=\"blue\",\n",
    ")\n",
    "plt.plot(\n",
    "    train_sizes,\n",
    "    test_mean,\n",
    "    color=\"green\",\n",
    "    linestyle=\"--\",\n",
    "    marker=\"s\",\n",
    "    markersize=5,\n",
    "    label=\"validation accuracy\",\n",
    ")\n",
    "plt.fill_between(\n",
    "    train_sizes, test_mean + test_std, test_mean - test_std, alpha=0.15, color=\"green\"\n",
    ")\n",
    "plt.grid()\n",
    "plt.xlabel(\"Number of training samples\")\n",
    "plt.ylabel(\"Accuracy\")\n",
    "plt.legend(loc=\"lower right\")\n",
    "plt.ylim([0.8, 1.0])\n",
    "plt.show()"
   ]
  },
  {
   "cell_type": "code",
   "execution_count": 12,
   "id": "flush-marketplace",
   "metadata": {},
   "outputs": [],
   "source": [
    "from sklearn.model_selection import validation_curve"
   ]
  },
  {
   "cell_type": "code",
   "execution_count": 13,
   "id": "medium-starter",
   "metadata": {},
   "outputs": [],
   "source": [
    "param_range = [0.001, 0.01, 0.1, 1.0, 10.0, 100.0]\n",
    "train_scores, test_scores = validation_curve(\n",
    "    estimator=pipe_lr,\n",
    "    X=X_train,\n",
    "    y=y_train,\n",
    "    param_name=\"logisticregression__C\",\n",
    "    param_range=param_range,\n",
    "    cv=10,\n",
    ")\n",
    "train_mean = np.mean(train_scores, axis=1)\n",
    "train_std = np.std(train_scores, axis=1)\n",
    "test_mean = np.mean(test_scores, axis=1)\n",
    "test_std = np.std(test_scores, axis=1)"
   ]
  },
  {
   "cell_type": "code",
   "execution_count": 14,
   "id": "historic-wagner",
   "metadata": {},
   "outputs": [
    {
     "data": {
      "image/png": "[encoded data removed]",
      "text/plain": [
       "<Figure size 432x288 with 1 Axes>"
      ]
     },
     "metadata": {
      "needs_background": "light"
     },
     "output_type": "display_data"
    }
   ],
   "source": [
    "plt.plot(\n",
    "    param_range,\n",
    "    train_mean,\n",
    "    color=\"blue\",\n",
    "    marker=\"o\",\n",
    "    markersize=5,\n",
    "    label=\"training accuracy\",\n",
    ")\n",
    "plt.fill_between(\n",
    "    param_range,\n",
    "    train_mean + train_std,\n",
    "    train_mean - train_std,\n",
    "    alpha=0.15,\n",
    "    color=\"blue\",\n",
    ")\n",
    "plt.plot(\n",
    "    param_range,\n",
    "    test_mean,\n",
    "    color=\"green\",\n",
    "    linestyle=\"--\",\n",
    "    marker=\"s\",\n",
    "    markersize=5,\n",
    "    label=\"validation accuracy\",\n",
    ")\n",
    "plt.fill_between(\n",
    "    param_range, test_mean + test_std, test_mean - test_std, alpha=0.15, color=\"green\"\n",
    ")\n",
    "plt.grid()\n",
    "plt.xscale(\"log\")  # Important\n",
    "plt.xlabel(\"Parameter C\")\n",
    "plt.ylabel(\"Accuracy\")\n",
    "plt.legend(loc=\"lower right\")\n",
    "plt.ylim([0.8, 1.03])\n",
    "plt.show()"
   ]
  },
  {
   "cell_type": "markdown",
   "id": "sonic-vaccine",
   "metadata": {},
   "source": [
    "# Tuning hyperparameters via grid search"
   ]
  },
  {
   "cell_type": "code",
   "execution_count": 15,
   "id": "differential-attack",
   "metadata": {},
   "outputs": [],
   "source": [
    "from sklearn.model_selection import GridSearchCV\n",
    "from sklearn.svm import SVC"
   ]
  },
  {
   "cell_type": "code",
   "execution_count": 16,
   "id": "informational-differential",
   "metadata": {},
   "outputs": [
    {
     "name": "stdout",
     "output_type": "stream",
     "text": [
      "0.9758454106280192\n",
      "{'svc__C': 10.0, 'svc__gamma': 0.001, 'svc__kernel': 'rbf'}\n",
      "Test accuracy: 0.982\n"
     ]
    }
   ],
   "source": [
    "pipe_svc = make_pipeline(StandardScaler(), SVC(random_state=1))\n",
    "param_range = [0.0001, 0.001, 0.01, 0.1, 1.0, 10.0, 100.0, 1000.0]\n",
    "param_grid = [\n",
    "    {\"svc__C\": param_range, \"svc__kernel\": [\"linear\"]},\n",
    "    {\"svc__C\": param_range, \"svc__kernel\": [\"rbf\"], \"svc__gamma\": param_range},\n",
    "]\n",
    "\n",
    "gs = GridSearchCV(\n",
    "    estimator=pipe_svc, param_grid=param_grid, scoring=\"accuracy\", cv=10, n_jobs=-1\n",
    ")\n",
    "gs = gs.fit(X_train, y_train)\n",
    "print(gs.best_score_)\n",
    "print(gs.best_params_)\n",
    "clf = gs.best_estimator_\n",
    "clf.fit(X_train, y_train)\n",
    "print(f\"Test accuracy: {clf.score(X_test, y_test):.3f}\")"
   ]
  },
  {
   "cell_type": "code",
   "execution_count": 17,
   "id": "collaborative-intention",
   "metadata": {},
   "outputs": [
    {
     "name": "stdout",
     "output_type": "stream",
     "text": [
      "CV accuracy: 0.971 +/- 0.011\n"
     ]
    }
   ],
   "source": [
    "gs = GridSearchCV(estimator=pipe_svc, param_grid=param_grid, scoring=\"accuracy\", cv=2)\n",
    "scores = cross_val_score(gs, X_train, y_train, scoring=\"accuracy\", cv=5)\n",
    "print(f\"CV accuracy: {np.mean(scores):.3f} +/- {np.std(scores):.3f}\")"
   ]
  },
  {
   "cell_type": "code",
   "execution_count": 18,
   "id": "plain-anxiety",
   "metadata": {},
   "outputs": [],
   "source": [
    "from sklearn.tree import DecisionTreeClassifier\n",
    "\n",
    "gs = GridSearchCV(\n",
    "    estimator=DecisionTreeClassifier(random_state=0),\n",
    "    param_grid=[{\"max_depth\": [1, 2, 3, 4, 5, 6, 7, None]}],\n",
    "    scoring=\"accuracy\",\n",
    "    cv=2,\n",
    ")"
   ]
  },
  {
   "cell_type": "code",
   "execution_count": 19,
   "id": "textile-bargain",
   "metadata": {},
   "outputs": [
    {
     "name": "stdout",
     "output_type": "stream",
     "text": [
      "CV accuracy: 0.932 +/- 0.013\n"
     ]
    }
   ],
   "source": [
    "scores = cross_val_score(gs, X_train, y_train, scoring=\"accuracy\", cv=5)\n",
    "print(f\"CV accuracy: {np.mean(scores):.3f} +/- {np.std(scores):.3f}\")"
   ]
  },
  {
   "cell_type": "code",
   "execution_count": 21,
   "id": "alleged-integral",
   "metadata": {},
   "outputs": [
    {
     "data": {
      "text/plain": [
       "array([[40,  2],\n",
       "       [ 0, 72]])"
      ]
     },
     "execution_count": 21,
     "metadata": {},
     "output_type": "execute_result"
    }
   ],
   "source": [
    "from sklearn.metrics import confusion_matrix\n",
    "\n",
    "pipe_svc.fit(X_train, y_train)\n",
    "y_pred = pipe_svc.predict(X_test)\n",
    "confmat = confusion_matrix(y_true=y_test, y_pred=y_pred)\n",
    "confmat"
   ]
  },
  {
   "cell_type": "code",
   "execution_count": 24,
   "id": "blind-capacity",
   "metadata": {},
   "outputs": [
    {
     "data": {
      "text/plain": [
       "Text(0, 0.5, 'predicted label')"
      ]
     },
     "execution_count": 24,
     "metadata": {},
     "output_type": "execute_result"
    },
    {
     "data": {
      "image/png": "[encoded data removed]",
      "text/plain": [
       "<Figure size 180x180 with 1 Axes>"
      ]
     },
     "metadata": {
      "needs_background": "light"
     },
     "output_type": "display_data"
    }
   ],
   "source": [
    "fig, ax = plt.subplots(figsize=(2.5, 2.5))\n",
    "ax.matshow(confmat, cmap=plt.cm.Blues, alpha=0.3)\n",
    "for i in range(confmat.shape[0]):\n",
    "    for j in range(confmat.shape[1]):\n",
    "        ax.text(x=j, y=i, s=confmat[i, j], va=\"center\", ha=\"center\")\n",
    "plt.xlabel(\"true label\")\n",
    "plt.ylabel(\"predicted label\")"
   ]
  },
  {
   "cell_type": "code",
   "execution_count": 40,
   "id": "improving-roman",
   "metadata": {},
   "outputs": [
    {
     "name": "stdout",
     "output_type": "stream",
     "text": [
      "True negative 40\n",
      "False positive 2\n",
      "False negative 0\n",
      "True positive 72\n"
     ]
    }
   ],
   "source": [
    "tn, fp, fn, tp = confmat.ravel()\n",
    "print(\"True negative\", tn)\n",
    "print(\"False positive\", fp)\n",
    "print(\"False negative\", fn)\n",
    "print(\"True positive\", tp)"
   ]
  },
  {
   "cell_type": "code",
   "execution_count": 41,
   "id": "demographic-priority",
   "metadata": {},
   "outputs": [
    {
     "name": "stdout",
     "output_type": "stream",
     "text": [
      "[[72  0]\n",
      " [ 2 40]]\n"
     ]
    }
   ],
   "source": [
    "confmat = confusion_matrix(y_true=y_test, y_pred=y_pred, labels=[1, 0])\n",
    "confmat"
   ]
  },
  {
   "cell_type": "code",
   "execution_count": 26,
   "id": "south-drawing",
   "metadata": {},
   "outputs": [
    {
     "name": "stdout",
     "output_type": "stream",
     "text": [
      "Precision: 0.973\n",
      "Recall: 1.000\n",
      "F1: 0.986\n"
     ]
    }
   ],
   "source": [
    "from sklearn.metrics import f1_score, precision_score, recall_score\n",
    "\n",
    "print(f\"Precision: {precision_score(y_true=y_test, y_pred=y_pred):.3f}\")\n",
    "print(f\"Recall: {recall_score(y_true=y_test, y_pred=y_pred):.3f}\")\n",
    "print(f\"F1: {f1_score(y_true=y_test, y_pred=y_pred):.3f}\")"
   ]
  },
  {
   "cell_type": "code",
   "execution_count": 29,
   "id": "answering-evans",
   "metadata": {},
   "outputs": [
    {
     "name": "stdout",
     "output_type": "stream",
     "text": [
      "0.9662716450216451\n",
      "{'svc__C': 10.0, 'svc__gamma': 0.001, 'svc__kernel': 'rbf'}\n"
     ]
    }
   ],
   "source": [
    "# Construct own scorer using make_scorer\n",
    "\n",
    "from sklearn.metrics import f1_score, make_scorer\n",
    "\n",
    "scorer = make_scorer(f1_score, pos_label=0)\n",
    "gs = GridSearchCV(estimator=pipe_svc, param_grid=param_grid, scoring=scorer, cv=10)\n",
    "gs = gs.fit(X_train, y_train)\n",
    "\n",
    "print(gs.best_score_)\n",
    "print(gs.best_params_)"
   ]
  },
  {
   "cell_type": "code",
   "execution_count": 42,
   "id": "wicked-destiny",
   "metadata": {},
   "outputs": [],
   "source": [
    "# Plotting ROC\n",
    "\n",
    "from numpy import interp\n",
    "from sklearn.metrics import auc, roc_curve\n",
    "\n",
    "pipe_lr = make_pipeline(\n",
    "    StandardScaler(),\n",
    "    PCA(n_components=2),\n",
    "    LogisticRegression(penalty=\"l2\", random_state=1, solver=\"lbfgs\", C=100.0),\n",
    ")"
   ]
  },
  {
   "cell_type": "code",
   "execution_count": 51,
   "id": "mechanical-paper",
   "metadata": {},
   "outputs": [
    {
     "data": {
      "image/png": "[encoded data removed]",
      "text/plain": [
       "<Figure size 504x360 with 1 Axes>"
      ]
     },
     "metadata": {
      "needs_background": "light"
     },
     "output_type": "display_data"
    }
   ],
   "source": [
    "X_train2 = X_train[:, [4, 14]]\n",
    "cv = list(StratifiedKFold(n_splits=3).split(X_train, y_train))\n",
    "\n",
    "\n",
    "fig = plt.figure(figsize=(7, 5))\n",
    "\n",
    "mean_tpr = 0.0\n",
    "mean_fpr = np.linspace(0, 1, 100)\n",
    "all_trp = []\n",
    "\n",
    "\n",
    "for i, (train, test) in enumerate(cv):\n",
    "    probas = pipe_lr.fit(X_train2[train], y_train[train]).predict_proba(X_train2[test])\n",
    "    fpr, tpr, thresholds = roc_curve(y_train[test], probas[:, 1], pos_label=1)\n",
    "    mean_tpr += interp(mean_fpr, fpr, tpr)\n",
    "    mean_tpr[0] = 0.0\n",
    "    roc_auc = auc(fpr, tpr)\n",
    "    plt.plot(fpr, tpr, label=f\"ROC fold ({i+1}) (area = {roc_auc:.2f})\")\n",
    "\n",
    "plt.plot([0, 1], [0, 1], linestyle=\"--\", color=(0.6, 0.6, 0.6), label=\"random guessing\")\n",
    "\n",
    "mean_tpr /= len(cv)\n",
    "mean_tpr[-1] = 1.0\n",
    "mean_auc = auc(mean_fpr, mean_tpr)\n",
    "\n",
    "plt.plot(mean_fpr, mean_tpr, \"k--\", label=f\"mean ROC (area {mean_auc:.2f})\", lw=2)\n",
    "plt.plot(\n",
    "    [0, 0, 1], [0, 1, 1], linestyle=\":\", color=\"black\", label=\"perfect performance\"\n",
    ")\n",
    "plt.xlim([-0.05, 1.05])\n",
    "plt.ylim([-0.05, 1.05])\n",
    "plt.xlabel(\"false positive rate\")\n",
    "plt.ylabel(\"true positive rate\")\n",
    "plt.legend(loc=\"lower right\")\n",
    "plt.show()"
   ]
  },
  {
   "cell_type": "code",
   "execution_count": 57,
   "id": "genuine-armenia",
   "metadata": {},
   "outputs": [
    {
     "data": {
      "text/plain": [
       "(357, 212)"
      ]
     },
     "execution_count": 57,
     "metadata": {},
     "output_type": "execute_result"
    }
   ],
   "source": [
    "# benign tumor = class 1\n",
    "# malignant tumor = class 0\n",
    "benign_counts = y.sum()\n",
    "malignant_counts = len(y) - benign_counts\n",
    "benign_counts, malignant_counts"
   ]
  },
  {
   "cell_type": "code",
   "execution_count": 67,
   "id": "acoustic-stockholm",
   "metadata": {},
   "outputs": [
    {
     "data": {
      "text/plain": [
       "89.92443324937027"
      ]
     },
     "execution_count": 67,
     "metadata": {},
     "output_type": "execute_result"
    }
   ],
   "source": [
    "# Take all benign (class 1) and stack with imbalance data of 40 malignant to create imbalance dataset.\n",
    "X_imb = np.vstack((X[y == 1], X[y == 0][:40]))\n",
    "y_imb = np.hstack((y[y == 1], y[y == 0][:40]))\n",
    "y_pred = np.ones(y_imb.shape[0])\n",
    "np.mean(y_pred == y_imb) * 100"
   ]
  },
  {
   "cell_type": "code",
   "execution_count": 71,
   "id": "muslim-commercial",
   "metadata": {},
   "outputs": [
    {
     "name": "stdout",
     "output_type": "stream",
     "text": [
      "Number of malignant samples (class 0) before: 40\n",
      "Number of malignant samples (class 0) after: 357\n"
     ]
    }
   ],
   "source": [
    "from sklearn.utils import resample\n",
    "\n",
    "print(\"Number of malignant samples (class 0) before:\", X_imb[y_imb == 0].shape[0])\n",
    "\n",
    "X_upsampled, y_upsampled = resample(\n",
    "    X_imb[y_imb == 0],\n",
    "    y_imb[y_imb == 0],\n",
    "    replace=True,\n",
    "    n_samples=X_imb[y_imb == 1].shape[0],\n",
    "    random_state=123,\n",
    ")\n",
    "\n",
    "print(\"Number of malignant samples (class 0) after:\", X_upsampled.shape[0])"
   ]
  },
  {
   "cell_type": "code",
   "execution_count": 72,
   "id": "medieval-custom",
   "metadata": {},
   "outputs": [],
   "source": [
    "# After resampling, we can stack the original class 1 (benign samples) with the upsampled class 0 (malignant samples) to obtain a balanced dataset as follows\n",
    "\n",
    "X_bal = np.vstack((X[y == 1], X_upsampled))\n",
    "y_bal = np.hstack((y[y == 1], y_upsampled))"
   ]
  },
  {
   "cell_type": "code",
   "execution_count": 73,
   "id": "operating-thumbnail",
   "metadata": {},
   "outputs": [
    {
     "data": {
      "text/plain": [
       "50.0"
      ]
     },
     "execution_count": 73,
     "metadata": {},
     "output_type": "execute_result"
    }
   ],
   "source": [
    "y_pred = np.ones(y_bal.shape[0])\n",
    "np.mean(y_pred == y_bal) * 100"
   ]
  },
  {
   "cell_type": "code",
   "execution_count": null,
   "id": "swedish-watson",
   "metadata": {},
   "outputs": [],
   "source": []
  }
 ],
 "metadata": {
  "kernelspec": {
   "display_name": "Python 3",
   "language": "python",
   "name": "python3"
  },
  "language_info": {
   "codemirror_mode": {
    "name": "ipython",
    "version": 3
   },
   "file_extension": ".py",
   "mimetype": "text/x-python",
   "name": "python",
   "nbconvert_exporter": "python",
   "pygments_lexer": "ipython3",
   "version": "3.9.10"
  }
 },
 "nbformat": 4,
 "nbformat_minor": 5
}
