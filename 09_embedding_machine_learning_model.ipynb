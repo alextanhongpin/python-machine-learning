{
 "cells": [
  {
   "cell_type": "code",
   "execution_count": 4,
   "id": "international-compression",
   "metadata": {},
   "outputs": [],
   "source": [
    "import os\n",
    "import pickle\n",
    "import re\n",
    "\n",
    "from sklearn.feature_extraction.text import HashingVectorizer\n",
    "\n",
    "stop = pickle.load(\n",
    "    open(os.path.join(\"movieclassifier\", \"pkl_objects\", \"stopwords.pkl\"), \"rb\")\n",
    ")\n",
    "\n",
    "\n",
    "def tokenizer(text):\n",
    "    text = re.sub(\"<[^>]*>\", \"\", text)\n",
    "    emoticons = re.findall(\"(?::|;|=)(?:-)?(?:\\)|\\(|D|P)\", text)\n",
    "    text = re.sub(\"[\\W]+\", \" \", text.lower()) + \" \".join(emoticons).replace(\"-\", \"\")\n",
    "    tokenized = [w for w in text.split() if w not in stop]\n",
    "    return tokenized\n",
    "\n",
    "\n",
    "vect = HashingVectorizer(\n",
    "    decode_error=\"ignore\", n_features=2 ** 21, preprocessor=None, tokenizer=tokenizer\n",
    ")"
   ]
  },
  {
   "cell_type": "code",
   "execution_count": 7,
   "id": "regulated-steel",
   "metadata": {},
   "outputs": [],
   "source": [
    "clf = pickle.load(\n",
    "    open(os.path.join(\"movieclassifier\", \"pkl_objects\", \"classifier.pkl\"), \"rb\")\n",
    ")"
   ]
  },
  {
   "cell_type": "code",
   "execution_count": 12,
   "id": "floppy-margin",
   "metadata": {},
   "outputs": [
    {
     "name": "stdout",
     "output_type": "stream",
     "text": [
      "Prediction: positive\n",
      "Probability: 88.25%\n"
     ]
    }
   ],
   "source": [
    "import numpy as np\n",
    "\n",
    "label = {0: \"negative\", 1: \"positive\"}\n",
    "\n",
    "example = [\"I love this movie\"]\n",
    "\n",
    "X = vect.transform(example)\n",
    "print(\n",
    "    \"Prediction: {pred}\\nProbability: {prob:.2f}%\".format(\n",
    "        pred=label[clf.predict(X)[0]], prob=np.max(clf.predict_proba(X)) * 100\n",
    "    )\n",
    ")"
   ]
  },
  {
   "cell_type": "code",
   "execution_count": 14,
   "id": "impressive-peeing",
   "metadata": {},
   "outputs": [],
   "source": [
    "import os\n",
    "import sqlite3\n",
    "\n",
    "if os.path.exists(\"reviews.sqlite\"):\n",
    "    os.remove(\"reviews.sqlite\")\n",
    "conn = sqlite3.connect(\"reviews.sqlite\")\n",
    "c = conn.cursor()\n",
    "c.execute(\"CREATE TABLE review_db(review TEXT, sentiment INTEGER, date TEXT)\")\n",
    "\n",
    "example1 = \"I love this movie\"\n",
    "c.execute(\n",
    "    \"INSERT INTO review_db(review, sentiment, date) VALUES (?, ?, DATETIME('now'))\",\n",
    "    (example1, 1),\n",
    ")\n",
    "\n",
    "example2 = \"I disliked this movie\"\n",
    "c.execute(\n",
    "    \"INSERT INTO review_db(review, sentiment, date) VALUES (?, ?, DATETIME('now'))\",\n",
    "    (example2, 0),\n",
    ")\n",
    "conn.commit()\n",
    "conn.close()"
   ]
  },
  {
   "cell_type": "code",
   "execution_count": 22,
   "id": "tight-affect",
   "metadata": {},
   "outputs": [
    {
     "name": "stdout",
     "output_type": "stream",
     "text": [
      "[('I love this movie', 1, '2022-01-31 09:13:36'), ('I disliked this movie', 0, '2022-01-31 09:13:36')]\n"
     ]
    }
   ],
   "source": [
    "conn = sqlite3.connect(\"reviews.sqlite\")\n",
    "c = conn.cursor()\n",
    "c.execute(\n",
    "    \"SELECT * FROM review_db WHERE date BETWEEN '2017-01-01 00:00:00' AND DATETIME('now')\"\n",
    ")\n",
    "results = c.fetchall()\n",
    "conn.close()\n",
    "print(results)"
   ]
  },
  {
   "cell_type": "code",
   "execution_count": null,
   "id": "polyphonic-country",
   "metadata": {},
   "outputs": [],
   "source": []
  }
 ],
 "metadata": {
  "kernelspec": {
   "display_name": "Python 3",
   "language": "python",
   "name": "python3"
  },
  "language_info": {
   "codemirror_mode": {
    "name": "ipython",
    "version": 3
   },
   "file_extension": ".py",
   "mimetype": "text/x-python",
   "name": "python",
   "nbconvert_exporter": "python",
   "pygments_lexer": "ipython3",
   "version": "3.9.10"
  }
 },
 "nbformat": 4,
 "nbformat_minor": 5
}
